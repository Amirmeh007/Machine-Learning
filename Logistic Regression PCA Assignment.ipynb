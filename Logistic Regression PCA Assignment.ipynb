{
 "cells": [
  {
   "cell_type": "code",
   "execution_count": 37,
   "id": "f9f42598",
   "metadata": {},
   "outputs": [],
   "source": [
    "import numpy as np \n",
    "import pandas as pd\n",
    "from sklearn import metrics\n",
    "from sklearn import preprocessing\n",
    "%matplotlib inline"
   ]
  },
  {
   "cell_type": "code",
   "execution_count": 38,
   "id": "a527771d",
   "metadata": {},
   "outputs": [],
   "source": [
    "df1=pd.read_csv(\"G:\\zameen-updated.csv\", delimiter=\",\")\n",
    "df1.shape\n",
    "df=df1.drop(['page_url'], axis = 1)"
   ]
  },
  {
   "cell_type": "code",
   "execution_count": 39,
   "id": "fee1f4d6",
   "metadata": {},
   "outputs": [],
   "source": [
    "from sklearn import preprocessing\n",
    "label_enco = preprocessing.LabelEncoder()\n",
    "d = df.select_dtypes(include=['object'])\n",
    "for i in d.columns:\n",
    "    df[i]=label_enco.fit_transform(df[i])\n",
    "    "
   ]
  },
  {
   "cell_type": "code",
   "execution_count": 40,
   "id": "118f95c5",
   "metadata": {},
   "outputs": [],
   "source": [
    "Y=df['purpose']\n",
    "del df['purpose']\n",
    "X=df"
   ]
  },
  {
   "cell_type": "code",
   "execution_count": 41,
   "id": "7b2f01a3",
   "metadata": {},
   "outputs": [],
   "source": [
    "from sklearn.model_selection import train_test_split\n",
    "X_trainset, X_testset, y_trainset, y_testset = train_test_split(X, Y, test_size=0.3, random_state=3)"
   ]
  },
  {
   "cell_type": "code",
   "execution_count": 42,
   "id": "020cbfdb",
   "metadata": {},
   "outputs": [],
   "source": [
    "from sklearn.preprocessing import StandardScaler\n",
    "SC = StandardScaler()"
   ]
  },
  {
   "cell_type": "code",
   "execution_count": 43,
   "id": "e43a141e",
   "metadata": {},
   "outputs": [],
   "source": [
    "X_train2 = SC.fit_transform(X_trainset)\n",
    "X_test2 = SC.transform(X_testset)"
   ]
  },
  {
   "cell_type": "code",
   "execution_count": 44,
   "id": "fed13135",
   "metadata": {},
   "outputs": [
    {
     "data": {
      "text/plain": [
       "array([[-0.60442194, -1.05592688, -0.91373239, ...,  0.47276728,\n",
       "        -0.61989861, -0.83881828],\n",
       "       [-0.21131137, -1.09593926,  2.99748699, ...,  0.47276728,\n",
       "        -0.18298487, -0.83881828],\n",
       "       [ 0.27698284, -0.87123399, -0.13148851, ...,  0.47276728,\n",
       "         0.18671138,  1.38194712],\n",
       "       ...,\n",
       "       [ 0.73385222,  1.10209168, -0.13148851, ...,  0.47276728,\n",
       "        -0.14937612, -0.83881828],\n",
       "       [ 0.56893215,  1.19934031,  1.43299924, ...,  0.47276728,\n",
       "         0.35475513,  1.38194712],\n",
       "       [ 0.67002802,  2.53379285, -0.91373239, ...,  0.47276728,\n",
       "        -0.13257174,  1.38194712]])"
      ]
     },
     "execution_count": 44,
     "metadata": {},
     "output_type": "execute_result"
    }
   ],
   "source": [
    "X_train2\n",
    "X_test2"
   ]
  },
  {
   "cell_type": "code",
   "execution_count": 45,
   "id": "769a5ca5",
   "metadata": {},
   "outputs": [],
   "source": [
    "from sklearn import decomposition\n",
    "pca_cmp = decomposition.PCA(n_components = 3) \n",
    "X_pca = pca_cmp.fit_transform(X_train2)"
   ]
  },
  {
   "cell_type": "code",
   "execution_count": 46,
   "id": "545b8205",
   "metadata": {},
   "outputs": [],
   "source": [
    "X_pca = pca_cmp.fit_transform(X_train2)"
   ]
  },
  {
   "cell_type": "code",
   "execution_count": 47,
   "id": "6c68cc24",
   "metadata": {},
   "outputs": [],
   "source": [
    "X_test_pca = pca_cmp.transform(X_test2)"
   ]
  },
  {
   "cell_type": "code",
   "execution_count": 48,
   "id": "04716dd7",
   "metadata": {},
   "outputs": [
    {
     "data": {
      "text/plain": [
       "(117912, 3)"
      ]
     },
     "execution_count": 48,
     "metadata": {},
     "output_type": "execute_result"
    }
   ],
   "source": [
    "X_pca.shape"
   ]
  },
  {
   "cell_type": "code",
   "execution_count": 49,
   "id": "43756cf6",
   "metadata": {},
   "outputs": [
    {
     "data": {
      "text/plain": [
       "(117912, 18)"
      ]
     },
     "execution_count": 49,
     "metadata": {},
     "output_type": "execute_result"
    }
   ],
   "source": [
    "X_train2.shape"
   ]
  },
  {
   "cell_type": "code",
   "execution_count": 50,
   "id": "6b2c3b8b",
   "metadata": {},
   "outputs": [
    {
     "name": "stdout",
     "output_type": "stream",
     "text": [
      "Accuracy:  0.9966557169430482\n"
     ]
    }
   ],
   "source": [
    "from sklearn.linear_model import LogisticRegression\n",
    "LR = LogisticRegression()\n",
    "LR.fit(X_trainset,y_trainset)\n",
    "yhat = LR.predict(X_testset)\n",
    "print(\"Accuracy: \", metrics.accuracy_score(y_testset, yhat))"
   ]
  },
  {
   "cell_type": "code",
   "execution_count": 51,
   "id": "9c7b768f",
   "metadata": {},
   "outputs": [
    {
     "name": "stdout",
     "output_type": "stream",
     "text": [
      "              precision    recall  f1-score   support\n",
      "\n",
      "           0       0.99      1.00      0.99     14191\n",
      "           1       1.00      1.00      1.00     36343\n",
      "\n",
      "    accuracy                           1.00     50534\n",
      "   macro avg       1.00      1.00      1.00     50534\n",
      "weighted avg       1.00      1.00      1.00     50534\n",
      "\n"
     ]
    }
   ],
   "source": [
    "from sklearn.metrics import classification_report\n",
    "print(classification_report(y_testset, yhat))"
   ]
  },
  {
   "cell_type": "code",
   "execution_count": 52,
   "id": "31c44b3a",
   "metadata": {},
   "outputs": [
    {
     "name": "stdout",
     "output_type": "stream",
     "text": [
      "[[14132    59]\n",
      " [  110 36233]]\n"
     ]
    }
   ],
   "source": [
    "from sklearn.metrics import confusion_matrix\n",
    "print(confusion_matrix(y_testset, yhat))"
   ]
  },
  {
   "cell_type": "code",
   "execution_count": null,
   "id": "203c6fe8",
   "metadata": {},
   "outputs": [],
   "source": []
  }
 ],
 "metadata": {
  "kernelspec": {
   "display_name": "Python 3 (ipykernel)",
   "language": "python",
   "name": "python3"
  },
  "language_info": {
   "codemirror_mode": {
    "name": "ipython",
    "version": 3
   },
   "file_extension": ".py",
   "mimetype": "text/x-python",
   "name": "python",
   "nbconvert_exporter": "python",
   "pygments_lexer": "ipython3",
   "version": "3.9.7"
  }
 },
 "nbformat": 4,
 "nbformat_minor": 5
}
